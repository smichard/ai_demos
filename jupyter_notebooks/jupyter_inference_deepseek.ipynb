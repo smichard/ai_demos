{
 "cells": [
  {
   "cell_type": "code",
   "execution_count": null,
   "metadata": {
    "vscode": {
     "languageId": "plaintext"
    }
   },
   "outputs": [],
   "source": [
    "import requests\n",
    "import json\n",
    "import warnings\n",
    "from urllib3.exceptions import InsecureRequestWarning\n",
    "\n",
    "# Hide warnings about insecure TLS connections\n",
    "warnings.filterwarnings(\"ignore\", category=InsecureRequestWarning)"
   ]
  },
  {
   "cell_type": "code",
   "execution_count": null,
   "metadata": {
    "vscode": {
     "languageId": "plaintext"
    }
   },
   "outputs": [],
   "source": [
    "API_ENDPOINT = \"<inference_endpoint>/v1/chat/completions\"\n",
    "TOKEN = \"<API_TOKEN>\""
   ]
  },
  {
   "cell_type": "code",
   "execution_count": null,
   "metadata": {
    "vscode": {
     "languageId": "plaintext"
    }
   },
   "outputs": [],
   "source": [
    "# In[3]:\n",
    "# Prepare the request payload with the correct model name\n",
    "payload = {\n",
    "    \"model\": \"custom-model\",  # The model name from your /v1/models list\n",
    "    \"messages\": [\n",
    "        {\n",
    "            \"role\": \"user\",\n",
    "            \"content\": \"What is the capital of France?\"\n",
    "        }\n",
    "    ]\n",
    "}\n",
    "\n",
    "# In[4]:\n",
    "# Set the headers, including the bearer token\n",
    "headers = {\n",
    "    \"Content-Type\": \"application/json\",\n",
    "    \"Authorization\": f\"Bearer {TOKEN}\"\n",
    "}\n",
    "\n",
    "# In[5]:\n",
    "# Make the request\n",
    "try:\n",
    "    response = requests.post(API_ENDPOINT, headers=headers, json=payload)\n",
    "    response.raise_for_status()  # Raise an HTTPError for non-200 responses\n",
    "    print(\"Request succeeded.\")\n",
    "except requests.exceptions.HTTPError as http_err:\n",
    "    print(f\"HTTP error occurred: {http_err}\")\n",
    "except requests.exceptions.RequestException as err:\n",
    "    print(f\"Error occurred: {err}\")\n",
    "\n",
    "# In[6]:\n",
    "# Print the status code and raw response text for debugging\n",
    "print(\"Response Status Code:\", response.status_code)\n",
    "print(\"Response Text:\", response.text)\n",
    "\n",
    "# In[7]:\n",
    "# Attempt to parse the JSON response\n",
    "try:\n",
    "    response_json = response.json()\n",
    "    print(\"\\nFull Response JSON:\\n\", json.dumps(response_json, indent=2))\n",
    "    \n",
    "    # If the model's answer is in \"choices[0]['message']['content']\", extract it:\n",
    "    if \"choices\" in response_json and len(response_json[\"choices\"]) > 0:\n",
    "        answer = response_json[\"choices\"][0][\"message\"][\"content\"]\n",
    "        print(\"\\nModel Answer:\\n\", answer)\n",
    "    else:\n",
    "        print(\"No choices found in the response.\")\n",
    "except ValueError as e:\n",
    "    print(\"Failed to parse JSON response:\", e)"
   ]
  }
 ],
 "metadata": {
  "language_info": {
   "name": "python"
  }
 },
 "nbformat": 4,
 "nbformat_minor": 2
}

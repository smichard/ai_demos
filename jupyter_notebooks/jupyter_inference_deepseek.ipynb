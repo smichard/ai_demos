{
 "cells": [
  {
   "cell_type": "code",
   "execution_count": null,
   "metadata": {
    "vscode": {
     "languageId": "plaintext"
    }
   },
   "outputs": [],
   "source": [
    "import requests\n",
    "import json\n",
    "import warnings\n",
    "from urllib3.exceptions import InsecureRequestWarning\n",
    "\n",
    "# Hide warnings about insecure TLS connections\n",
    "warnings.filterwarnings(\"ignore\", category=InsecureRequestWarning)"
   ]
  },
  {
   "cell_type": "code",
   "execution_count": null,
   "metadata": {
    "vscode": {
     "languageId": "plaintext"
    }
   },
   "outputs": [],
   "source": [
    "API_ENDPOINT = \"<inference_endpoint>/v1/chat/completions\"\n",
    "TOKEN = \"<API_TOKEN>\""
   ]
  },
  {
   "cell_type": "code",
   "execution_count": null,
   "metadata": {
    "vscode": {
     "languageId": "plaintext"
    }
   },
   "outputs": [],
   "source": [
    "# Prepare the request payload with the correct model name\n",
    "payload = {\n",
    "    \"model\": \"custom-model\",  # The model name from your /v1/models list\n",
    "    \"messages\": [\n",
    "        {\n",
    "            \"role\": \"user\",\n",
    "            \"content\": \"What is the capital of France?\"\n",
    "        }\n",
    "    ]\n",
    "}\n",
    "\n",
    "# Only use the token if it's not the dummy token\n",
    "if TOKEN and TOKEN != \"<API_TOKEN>\":\n",
    "    headers = {\n",
    "        \"Content-Type\": \"application/json\",\n",
    "        \"Authorization\": f\"Bearer {TOKEN}\"\n",
    "    }\n",
    "else:\n",
    "    headers = {\n",
    "        \"Content-Type\": \"application/json\"\n",
    "    }\n",
    "\n",
    "# Make the request\n",
    "try:\n",
    "    response = requests.post(API_ENDPOINT, headers=headers, json=payload)\n",
    "    response.raise_for_status()\n",
    "    print(\"Request succeeded.\")\n",
    "except requests.exceptions.HTTPError as http_err:\n",
    "    print(f\"HTTP error occurred: {http_err}\")\n",
    "except requests.exceptions.RequestException as err:\n",
    "    print(f\"Error occurred: {err}\")\n",
    "\n",
    "# Print the status code and raw response text for debugging\n",
    "print(\"Response Status Code:\", response.status_code)\n",
    "print(\"Response Text:\", response.text)\n",
    "\n",
    "# Attempt to parse the JSON response\n",
    "try:\n",
    "    response_json = response.json()\n",
    "    print(\"\\nFull Response JSON:\\n\", json.dumps(response_json, indent=2))\n",
    "    \n",
    "    if \"choices\" in response_json and len(response_json[\"choices\"]) > 0:\n",
    "        answer = response_json[\"choices\"][0][\"message\"][\"content\"]\n",
    "        print(\"\\nModel Answer:\\n\", answer)\n",
    "    else:\n",
    "        print(\"No choices found in the response.\")\n",
    "except ValueError as e:\n",
    "    print(\"Failed to parse JSON response:\", e)"
   ]
  }
 ],
 "metadata": {
  "language_info": {
   "name": "python"
  }
 },
 "nbformat": 4,
 "nbformat_minor": 2
}

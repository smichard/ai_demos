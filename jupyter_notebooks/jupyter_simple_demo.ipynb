{
 "cells": [
  {
   "cell_type": "code",
   "execution_count": null,
   "id": "56081ab4-e135-4a0e-b57c-6b26b5ad69ab",
   "metadata": {
    "tags": []
   },
   "outputs": [],
   "source": [
    "# Install necessary libraries\n",
    "!pip install -q yfinance matplotlib pandas"
   ]
  },
  {
   "cell_type": "code",
   "execution_count": null,
   "id": "f0ceb9e2-0a5f-4f1c-9f52-f8b6633da3a9",
   "metadata": {
    "tags": []
   },
   "outputs": [],
   "source": [
    "# Import libraries\n",
    "import yfinance as yf\n",
    "import matplotlib.pyplot as plt\n",
    "import pandas as pd"
   ]
  },
  {
   "cell_type": "code",
   "execution_count": null,
   "id": "d9f6f782-bb44-4bb5-a3c9-be0b9894a0b9",
   "metadata": {
    "tags": []
   },
   "outputs": [],
   "source": [
    "# Define the ticker symbol\n",
    "ticker_symbol = '^DJI'"
   ]
  },
  {
   "cell_type": "code",
   "execution_count": null,
   "id": "99117b60-e80e-490c-a8fc-65845073f35c",
   "metadata": {
    "tags": []
   },
   "outputs": [],
   "source": [
    "# Fetch the data for the last 5 years\n",
    "data = yf.download(ticker_symbol, period='5y')"
   ]
  },
  {
   "cell_type": "code",
   "execution_count": null,
   "id": "400b4740-a298-4fef-8b6b-d6ff74dd8b2c",
   "metadata": {
    "tags": []
   },
   "outputs": [],
   "source": [
    "# Print the fetched data\n",
    "print(data)"
   ]
  },
  {
   "cell_type": "code",
   "execution_count": null,
   "id": "75e5caff-f57c-44d5-a351-3d086bdfe018",
   "metadata": {
    "tags": []
   },
   "outputs": [],
   "source": [
    "# Plot the data\n",
    "plt.figure(figsize=(14, 7))\n",
    "plt.plot(data['Close'], label=f'{ticker_symbol} Close Price')\n",
    "plt.title(f'{ticker_symbol} (Last 5 Years)')\n",
    "plt.xlabel('Date')\n",
    "plt.ylabel('Close Price')\n",
    "plt.legend()\n",
    "plt.grid()\n",
    "plt.show()"
   ]
  }
 ],
 "metadata": {
  "kernelspec": {
   "display_name": "Python 3",
   "language": "python",
   "name": "python3"
  },
  "language_info": {
   "codemirror_mode": {
    "name": "ipython",
    "version": 3
   },
   "file_extension": ".py",
   "mimetype": "text/x-python",
   "name": "python",
   "nbconvert_exporter": "python",
   "pygments_lexer": "ipython3",
   "version": "3.13.1"
  }
 },
 "nbformat": 4,
 "nbformat_minor": 5
}

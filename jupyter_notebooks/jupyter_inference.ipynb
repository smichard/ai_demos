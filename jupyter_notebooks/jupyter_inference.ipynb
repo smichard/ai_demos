{
 "cells": [
  {
   "cell_type": "code",
   "execution_count": null,
   "metadata": {
    "vscode": {
     "languageId": "plaintext"
    }
   },
   "outputs": [],
   "source": [
    "import requests\n",
    "import json\n",
    "import warnings\n",
    "from urllib3.exceptions import InsecureRequestWarning\n",
    "\n",
    "# Hide warnings about insecure TLS connections\n",
    "warnings.filterwarnings(\"ignore\", category=InsecureRequestWarning)"
   ]
  },
  {
   "cell_type": "code",
   "execution_count": null,
   "metadata": {
    "vscode": {
     "languageId": "plaintext"
    }
   },
   "outputs": [],
   "source": [
    "API_ENDPOINT = \"<inference_endpoint>/v1/chat/completions\"\n",
    "TOKEN = \"<API_TOKEN>\""
   ]
  },
  {
   "cell_type": "code",
   "execution_count": null,
   "metadata": {
    "vscode": {
     "languageId": "plaintext"
    }
   },
   "outputs": [],
   "source": [
    "response = None\n",
    "\n",
    "try:\n",
    "    response = requests.post(API_ENDPOINT, headers=headers, json=payload)\n",
    "    response.raise_for_status()\n",
    "    print(\"Request succeeded.\")\n",
    "except requests.exceptions.HTTPError as http_err:\n",
    "    print(f\"HTTP error occurred: {http_err}\")\n",
    "except requests.exceptions.RequestException as err:\n",
    "    print(f\"Error occurred: {err}\")\n",
    "\n",
    "# Now response is guaranteed to exist (even if it’s None)\n",
    "if response is not None:\n",
    "    print(\"Response Status Code:\", response.status_code)\n",
    "    print(\"Response Text:\", response.text)\n",
    "\n",
    "    # Attempt to parse the JSON response\n",
    "    try:\n",
    "        response_json = response.json()\n",
    "        print(\"\\nFull Response JSON:\\n\", json.dumps(response_json, indent=2))\n",
    "        \n",
    "        if \"choices\" in response_json and len(response_json[\"choices\"]) > 0:\n",
    "            answer = response_json[\"choices\"][0][\"message\"][\"content\"]\n",
    "            print(\"\\nModel Answer:\\n\", answer)\n",
    "        else:\n",
    "            print(\"No choices found in the response.\")\n",
    "    except ValueError as e:\n",
    "        print(\"Failed to parse JSON response:\", e)\n",
    "else:\n",
    "    print(\"No response was received.\")\n"
   ]
  }
 ],
 "metadata": {
  "language_info": {
   "name": "python"
  }
 },
 "nbformat": 4,
 "nbformat_minor": 2
}

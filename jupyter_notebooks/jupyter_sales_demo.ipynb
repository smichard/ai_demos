{
 "cells": [
  {
   "cell_type": "code",
   "execution_count": null,
   "metadata": {
    "vscode": {
     "languageId": "plaintext"
    }
   },
   "outputs": [],
   "source": [
    "# Install necessary libraries\n",
    "!pip install -q boto3 matplotlib pandas seaborn"
   ]
  },
  {
   "cell_type": "code",
   "execution_count": null,
   "metadata": {
    "vscode": {
     "languageId": "plaintext"
    }
   },
   "outputs": [],
   "source": [
    "import os\n",
    "import boto3\n",
    "import pandas as pd\n",
    "import seaborn as sns\n",
    "import matplotlib.pyplot as plt\n",
    "import io"
   ]
  },
  {
   "cell_type": "code",
   "execution_count": null,
   "metadata": {
    "vscode": {
     "languageId": "plaintext"
    }
   },
   "outputs": [],
   "source": [
    "# Define a function to list bucket contents\n",
    "def list_bucket_contents():\n",
    "    # Load environment variables\n",
    "    key_id = os.getenv(\"AWS_ACCESS_KEY_ID\")\n",
    "    secret_key = os.getenv(\"AWS_SECRET_ACCESS_KEY\")\n",
    "    region = os.getenv(\"AWS_DEFAULT_REGION\")\n",
    "    endpoint = os.getenv(\"AWS_S3_ENDPOINT\")\n",
    "    bucket_name = os.getenv(\"AWS_S3_BUCKET\")\n",
    "\n",
    "    if not all([key_id, secret_key, region, endpoint, bucket_name]):\n",
    "        print(\"One or more environment variables are missing. Please check your setup.\")\n",
    "        return\n",
    "\n",
    "    # Create an S3 client\n",
    "    s3 = boto3.client(\n",
    "        's3',\n",
    "        aws_access_key_id=key_id,\n",
    "        aws_secret_access_key=secret_key,\n",
    "        region_name=region,\n",
    "        endpoint_url=endpoint\n",
    "    )\n",
    "\n",
    "    try:\n",
    "        print(f\"Contents of bucket '{bucket_name}':\")\n",
    "        response = s3.list_objects_v2(Bucket=bucket_name)\n",
    "\n",
    "        if 'Contents' in response:\n",
    "            for obj in response['Contents']:\n",
    "                print(f\" - {obj['Key']} ({obj['Size']} bytes)\")\n",
    "        else:\n",
    "            print(\"The bucket is empty or does not exist.\")\n",
    "\n",
    "    except Exception as e:\n",
    "        print(f\"An error occurred: {e}\")\n",
    "\n",
    "\n",
    "def load_csv_from_s3(file_key):\n",
    "    \"\"\"\n",
    "    file_key: path to the file in the S3 bucket, e.g., 'input/sales_data.csv'.\n",
    "    \"\"\"\n",
    "    key_id = os.getenv(\"AWS_ACCESS_KEY_ID\")\n",
    "    secret_key = os.getenv(\"AWS_SECRET_ACCESS_KEY\")\n",
    "    region = os.getenv(\"AWS_DEFAULT_REGION\")\n",
    "    endpoint = os.getenv(\"AWS_S3_ENDPOINT\")\n",
    "    bucket_name = os.getenv(\"AWS_S3_BUCKET\")\n",
    "\n",
    "    if not all([key_id, secret_key, region, endpoint, bucket_name]):\n",
    "        raise ValueError(\"One or more S3-related environment variables are not set.\")\n",
    "\n",
    "    s3 = boto3.client(\n",
    "        's3',\n",
    "        aws_access_key_id=key_id,\n",
    "        aws_secret_access_key=secret_key,\n",
    "        region_name=region,\n",
    "        endpoint_url=endpoint\n",
    "    )\n",
    "\n",
    "    try:\n",
    "        # Retrieve the file object\n",
    "        obj = s3.get_object(Bucket=bucket_name, Key=file_key)\n",
    "        # Read the CSV data\n",
    "        df = pd.read_csv(io.BytesIO(obj['Body'].read()))\n",
    "        return df\n",
    "    except Exception as e:\n",
    "        raise ValueError(f\"Error reading {file_key} from bucket {bucket_name}: {e}\")"
   ]
  },
  {
   "cell_type": "code",
   "execution_count": null,
   "metadata": {
    "vscode": {
     "languageId": "plaintext"
    }
   },
   "outputs": [],
   "source": [
    "# First, list the contents of the bucket to verify connectivity and file presence\n",
    "list_bucket_contents()\n",
    "\n",
    "# Define the S3 key (path within the bucket)\n",
    "file_key = \"input/sales_data.csv\"\n",
    "\n",
    "# Load the CSV into a pandas DataFrame\n",
    "df = load_csv_from_s3(file_key)\n",
    "\n",
    "# ----- Your Plotting Code -----\n",
    "\n",
    "# Verify that the data is loaded correctly\n",
    "print(df.head())"
   ]
  },
  {
   "cell_type": "code",
   "execution_count": null,
   "metadata": {
    "vscode": {
     "languageId": "plaintext"
    }
   },
   "outputs": [],
   "source": [
    "# Create the graph using the correct variable name\n",
    "plt.figure(figsize=(10, 6))\n",
    "sales_by_region = df.groupby('Region')['Sales_Amount'].sum().reset_index()\n",
    "sales_by_region = sales_by_region.sort_values(by='Sales_Amount', ascending=False)\n",
    "sns.barplot(data=sales_by_region, x='Sales_Amount', y='Region', palette=\"Blues_r\")\n",
    "plt.title('Total Sales by Region', fontsize=16)\n",
    "plt.xlabel('Sales Amount', fontsize=14)\n",
    "plt.ylabel('Region', fontsize=14)\n",
    "plt.tight_layout()\n",
    "plt.show()"
   ]
  },
  {
   "cell_type": "code",
   "execution_count": null,
   "metadata": {
    "vscode": {
     "languageId": "plaintext"
    }
   },
   "outputs": [],
   "source": [
    "# Plotting Sales Amount by Product Category\n",
    "plt.figure(figsize=(10, 6))\n",
    "sales_by_category = df.groupby('Product_Category')['Sales_Amount'].sum().reset_index()\n",
    "sales_by_category = sales_by_category.sort_values(by='Sales_Amount', ascending=False)\n",
    "sns.barplot(data=sales_by_category, x='Sales_Amount', y='Product_Category', palette=\"Blues_r\")\n",
    "plt.title('Sales Amount by Product Category', fontsize=16)\n",
    "plt.xlabel('Sales Amount', fontsize=14)\n",
    "plt.ylabel('Product Category', fontsize=14)\n",
    "plt.tight_layout()\n",
    "plt.show()"
   ]
  },
  {
   "cell_type": "code",
   "execution_count": null,
   "metadata": {
    "vscode": {
     "languageId": "plaintext"
    }
   },
   "outputs": [],
   "source": [
    "import warnings  # Import the warnings module to suppress warnings\n",
    "\n",
    "# Suppress the specific FutureWarning\n",
    "warnings.simplefilter(action='ignore', category=FutureWarning)\n",
    "\n",
    "# Ensure no 'inf' values in the DataFrame, convert to NaN if present\n",
    "df.replace([float('inf'), float('-inf')], float('nan'), inplace=True)\n",
    "\n",
    "# Convert 'Sales_Amount' to a numeric column, coercing errors to NaN\n",
    "df['Sales_Amount'] = pd.to_numeric(df['Sales_Amount'], errors='coerce')\n",
    "\n",
    "# Drop rows with NaN values to ensure clean data\n",
    "df.dropna(inplace=True)\n",
    "\n",
    "# Plotting Sales Trend Over Time\n",
    "plt.figure(figsize=(12, 6))\n",
    "df['Sale_Month'] = pd.to_datetime(df['Sale_Date']).dt.to_period('M')\n",
    "\n",
    "# Group by 'Sale_Month' and handle any potential 'inf' during aggregation\n",
    "sales_trend = df.groupby('Sale_Month')['Sales_Amount'].sum().reset_index()\n",
    "sales_trend['Sale_Month'] = sales_trend['Sale_Month'].astype(str)\n",
    "\n",
    "# Clean 'sales_trend' DataFrame again to remove any 'inf' or 'NaN'\n",
    "sales_trend['Sales_Amount'] = pd.to_numeric(sales_trend['Sales_Amount'], errors='coerce')\n",
    "sales_trend.dropna(inplace=True)\n",
    "\n",
    "# Plot the graph\n",
    "sns.lineplot(data=sales_trend, x='Sale_Month', y='Sales_Amount', marker='o')\n",
    "plt.xticks(rotation=45)\n",
    "plt.title('Sales Trend Over Time', fontsize=16)\n",
    "plt.xlabel('Month', fontsize=14)\n",
    "plt.ylabel('Sales Amount', fontsize=14)\n",
    "plt.tight_layout()\n",
    "plt.show()"
   ]
  },
  {
   "cell_type": "code",
   "execution_count": null,
   "metadata": {
    "vscode": {
     "languageId": "plaintext"
    }
   },
   "outputs": [],
   "source": [
    "# Ensure no 'inf' values in the DataFrame, convert to NaN if present\n",
    "df.replace([float('inf'), float('-inf')], float('nan'), inplace=True)\n",
    "\n",
    "# Convert 'Sales_Amount' to a numeric column, coercing errors to NaN\n",
    "df['Sales_Amount'] = pd.to_numeric(df['Sales_Amount'], errors='coerce')\n",
    "\n",
    "# Drop rows with NaN values to ensure clean data\n",
    "df.dropna(inplace=True)\n",
    "\n",
    "# Plotting Sales by Sales Representative\n",
    "plt.figure(figsize=(10, 6))\n",
    "sales_by_rep = df.groupby('Sales_Rep')['Sales_Amount'].sum().reset_index()\n",
    "sales_by_rep = sales_by_rep.sort_values(by='Sales_Amount', ascending=False)\n",
    "sns.barplot(data=sales_by_rep, x='Sales_Amount', y='Sales_Rep', palette=\"Blues_r\")\n",
    "plt.title('Sales by Sales Representative', fontsize=16)\n",
    "plt.xlabel('Sales Amount', fontsize=14)\n",
    "plt.ylabel('Sales Representative', fontsize=14)\n",
    "plt.tight_layout()\n",
    "plt.show()"
   ]
  },
  {
   "cell_type": "code",
   "execution_count": null,
   "metadata": {
    "vscode": {
     "languageId": "plaintext"
    }
   },
   "outputs": [],
   "source": [
    "# Ensure no 'inf' values in the DataFrame, convert to NaN if present\n",
    "df.replace([float('inf'), float('-inf')], float('nan'), inplace=True)\n",
    "\n",
    "# Convert 'Sales_Amount' to a numeric column, coercing errors to NaN\n",
    "df['Sales_Amount'] = pd.to_numeric(df['Sales_Amount'], errors='coerce')\n",
    "\n",
    "# Drop rows with NaN values to ensure clean data\n",
    "df.dropna(inplace=True)\n",
    "\n",
    "# Plotting Sales Channel Distribution\n",
    "plt.figure(figsize=(8, 6))\n",
    "sales_channel_dist = df['Sales_Channel'].value_counts().reset_index()\n",
    "sales_channel_dist.columns = ['Sales_Channel', 'Count']\n",
    "sns.barplot(data=sales_channel_dist, x='Count', y='Sales_Channel', palette=\"Blues_r\")\n",
    "plt.title('Sales Channel Distribution', fontsize=16)\n",
    "plt.xlabel('Count', fontsize=14)\n",
    "plt.ylabel('Sales Channel', fontsize=14)\n",
    "plt.tight_layout()\n",
    "plt.show()"
   ]
  },
  {
   "cell_type": "code",
   "execution_count": null,
   "metadata": {
    "vscode": {
     "languageId": "plaintext"
    }
   },
   "outputs": [],
   "source": [
    "# 1. Sales Amount Distribution by Product Category and Sales Channel\n",
    "plt.figure(figsize=(12, 6))\n",
    "sns.boxplot(data=df, x='Product_Category', y='Sales_Amount', hue='Sales_Channel', palette='Blues')\n",
    "plt.title('Sales Amount Distribution by Product Category and Sales Channel', fontsize=16)\n",
    "plt.xlabel('Product Category', fontsize=14)\n",
    "plt.ylabel('Sales Amount', fontsize=14)\n",
    "plt.xticks(rotation=45)\n",
    "plt.tight_layout()\n",
    "plt.show()"
   ]
  },
  {
   "cell_type": "code",
   "execution_count": null,
   "metadata": {
    "vscode": {
     "languageId": "plaintext"
    }
   },
   "outputs": [],
   "source": [
    "# 2. Heatmap of Sales Amount by Region and Sales Representative\n",
    "pivot_table = df.pivot_table(values='Sales_Amount', index='Region', columns='Sales_Rep', aggfunc='sum', fill_value=0)\n",
    "plt.figure(figsize=(8, 6))\n",
    "sns.heatmap(pivot_table, annot=True, cmap='Blues', fmt='.0f')\n",
    "plt.title('Heatmap of Sales Amount by Region and Sales Representative', fontsize=16)\n",
    "plt.xlabel('Sales Representative', fontsize=14)\n",
    "plt.ylabel('Region', fontsize=14)\n",
    "plt.tight_layout()\n",
    "plt.show()"
   ]
  },
  {
   "cell_type": "code",
   "execution_count": null,
   "metadata": {
    "vscode": {
     "languageId": "plaintext"
    }
   },
   "outputs": [],
   "source": [
    "# 3. Scatter Plot of Sales Amount vs. Quantity Sold with Product Category Hue\n",
    "plt.figure(figsize=(10, 6))\n",
    "sns.scatterplot(data=df, x='Quantity_Sold', y='Sales_Amount', hue='Product_Category', palette='bright', alpha=0.7)\n",
    "plt.title('Sales Amount vs. Quantity Sold by Product Category', fontsize=16)\n",
    "plt.xlabel('Quantity Sold', fontsize=14)\n",
    "plt.ylabel('Sales Amount', fontsize=14)\n",
    "plt.tight_layout()\n",
    "plt.show()"
   ]
  },
  {
   "cell_type": "code",
   "execution_count": null,
   "metadata": {
    "vscode": {
     "languageId": "plaintext"
    }
   },
   "outputs": [],
   "source": [
    "# 4. Pairplot to Visualize Relationships Between Numeric Variables\n",
    "sns.pairplot(df, vars=['Sales_Amount', 'Quantity_Sold', 'Unit_Cost', 'Unit_Price'], hue='Product_Category', palette='bright')\n",
    "plt.suptitle('Pairplot of Key Metrics by Product Category', fontsize=16, y=1.02)\n",
    "plt.tight_layout()\n",
    "plt.show()"
   ]
  },
  {
   "cell_type": "code",
   "execution_count": null,
   "metadata": {
    "vscode": {
     "languageId": "plaintext"
    }
   },
   "outputs": [],
   "source": [
    "# 5. Violin Plot to Show Sales Amount Distribution by Customer Type\n",
    "plt.figure(figsize=(8, 6))\n",
    "sns.violinplot(data=df, x='Customer_Type', y='Sales_Amount', palette='Blues_r')\n",
    "plt.title('Sales Amount Distribution by Customer Type', fontsize=16)\n",
    "plt.xlabel('Customer Type', fontsize=14)\n",
    "plt.ylabel('Sales Amount', fontsize=14)\n",
    "plt.tight_layout()\n",
    "plt.show()"
   ]
  }
 ],
 "metadata": {
  "language_info": {
   "name": "python"
  }
 },
 "nbformat": 4,
 "nbformat_minor": 2
}

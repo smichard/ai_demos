{
 "cells": [
  {
   "cell_type": "code",
   "execution_count": null,
   "metadata": {
    "vscode": {
     "languageId": "plaintext"
    }
   },
   "outputs": [],
   "source": [
    "# Install necessary libraries\n",
    "!pip install -q boto3"
   ]
  },
  {
   "cell_type": "code",
   "execution_count": null,
   "metadata": {
    "vscode": {
     "languageId": "plaintext"
    }
   },
   "outputs": [],
   "source": [
    "# Import libraries\n",
    "import boto3\n",
    "import os"
   ]
  },
  {
   "cell_type": "code",
   "execution_count": null,
   "metadata": {
    "vscode": {
     "languageId": "plaintext"
    }
   },
   "outputs": [],
   "source": [
    "# Define a function to list bucket contents\n",
    "def list_bucket_contents():\n",
    "    # Load environment variables\n",
    "    key_id = os.getenv(\"AWS_ACCESS_KEY_ID\")\n",
    "    secret_key = os.getenv(\"AWS_SECRET_ACCESS_KEY\")\n",
    "    region = os.getenv(\"AWS_DEFAULT_REGION\")\n",
    "    endpoint = os.getenv(\"AWS_S3_ENDPOINT\")\n",
    "    bucket_name = os.getenv(\"AWS_S3_BUCKET\")\n",
    "\n",
    "    if not all([key_id, secret_key, region, endpoint, bucket_name]):\n",
    "        print(\"One or more environment variables are missing. Please check your setup.\")\n",
    "        return\n",
    "\n",
    "    # Create an S3 client\n",
    "    s3 = boto3.client(\n",
    "        's3',\n",
    "        aws_access_key_id=key_id,\n",
    "        aws_secret_access_key=secret_key,\n",
    "        region_name=region,\n",
    "        endpoint_url=endpoint\n",
    "    )\n",
    "\n",
    "    try:\n",
    "        print(f\"Contents of bucket '{bucket_name}':\")\n",
    "        response = s3.list_objects_v2(Bucket=bucket_name)\n",
    "\n",
    "        if 'Contents' in response:\n",
    "            for obj in response['Contents']:\n",
    "                print(f\" - {obj['Key']} ({obj['Size']} bytes)\")\n",
    "        else:\n",
    "            print(\"The bucket is empty or does not exist.\")\n",
    "\n",
    "    except Exception as e:\n",
    "        print(f\"An error occurred: {e}\")"
   ]
  },
  {
   "cell_type": "code",
   "execution_count": null,
   "metadata": {
    "vscode": {
     "languageId": "plaintext"
    }
   },
   "outputs": [],
   "source": [
    "# Call the function to display the contents of the bucket\n",
    "list_bucket_contents()"
   ]
  }
 ],
 "metadata": {
  "language_info": {
   "name": "python"
  }
 },
 "nbformat": 4,
 "nbformat_minor": 2
}
